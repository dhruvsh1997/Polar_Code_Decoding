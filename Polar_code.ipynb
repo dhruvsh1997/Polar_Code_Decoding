{
 "cells": [
  {
   "cell_type": "code",
   "execution_count": 2,
   "id": "552febf9",
   "metadata": {},
   "outputs": [
    {
     "name": "stdout",
     "output_type": "stream",
     "text": [
      "Collecting python-polar-coding\n",
      "  Using cached python_polar_coding-0.0.1-py3-none-any.whl (59 kB)\n",
      "Collecting certifi==2020.6.20\n",
      "  Using cached certifi-2020.6.20-py2.py3-none-any.whl (156 kB)\n",
      "Collecting idna==2.10\n",
      "  Using cached idna-2.10-py2.py3-none-any.whl (58 kB)\n",
      "Requirement already satisfied: six==1.15.0 in c:\\programdata\\anaconda3\\lib\\site-packages (from python-polar-coding) (1.15.0)\n",
      "Requirement already satisfied: chardet==3.0.4 in c:\\programdata\\anaconda3\\lib\\site-packages (from python-polar-coding) (3.0.4)\n",
      "Collecting anytree==2.8.0\n",
      "  Using cached anytree-2.8.0-py2.py3-none-any.whl (41 kB)\n",
      "Collecting llvmlite==0.33.0\n",
      "  Using cached llvmlite-0.33.0-cp38-cp38-win_amd64.whl (15.0 MB)\n",
      "Collecting requests==2.24.0\n",
      "  Using cached requests-2.24.0-py2.py3-none-any.whl (61 kB)\n",
      "Requirement already satisfied: numpy==1.19.1 in c:\\programdata\\anaconda3\\lib\\site-packages (from python-polar-coding) (1.19.1)\n",
      "Collecting numba==0.50.1\n",
      "  Using cached numba-0.50.1-cp38-cp38-win_amd64.whl (2.2 MB)\n",
      "Requirement already satisfied: urllib3==1.25.10 in c:\\programdata\\anaconda3\\lib\\site-packages (from python-polar-coding) (1.25.10)\n",
      "Requirement already satisfied: setuptools in c:\\programdata\\anaconda3\\lib\\site-packages (from numba==0.50.1->python-polar-coding) (60.2.0)\n",
      "Installing collected packages: llvmlite, idna, certifi, requests, numba, anytree, python-polar-coding\n",
      "  Attempting uninstall: idna\n",
      "    Found existing installation: idna 3.3\n",
      "    Uninstalling idna-3.3:\n",
      "      Successfully uninstalled idna-3.3\n",
      "  Attempting uninstall: certifi\n",
      "    Found existing installation: certifi 2021.10.8\n",
      "    Uninstalling certifi-2021.10.8:\n",
      "      Successfully uninstalled certifi-2021.10.8\n",
      "  Attempting uninstall: requests\n",
      "    Found existing installation: requests 2.26.0\n",
      "    Uninstalling requests-2.26.0:\n",
      "      Successfully uninstalled requests-2.26.0\n",
      "Successfully installed anytree-2.8.0 certifi-2020.6.20 idna-2.10 llvmlite-0.33.0 numba-0.50.1 python-polar-coding-0.0.1 requests-2.24.0\n"
     ]
    },
    {
     "name": "stderr",
     "output_type": "stream",
     "text": [
      "WARNING: Ignoring invalid distribution -5py (c:\\programdata\\anaconda3\\lib\\site-packages)\n",
      "WARNING: Ignoring invalid distribution -pencv-python (c:\\programdata\\anaconda3\\lib\\site-packages)\n",
      "WARNING: Ignoring invalid distribution -ornado (c:\\programdata\\anaconda3\\lib\\site-packages)\n",
      "WARNING: Ignoring invalid distribution - (c:\\programdata\\anaconda3\\lib\\site-packages)\n",
      "WARNING: Ignoring invalid distribution -5py (c:\\programdata\\anaconda3\\lib\\site-packages)\n",
      "WARNING: Ignoring invalid distribution -pencv-python (c:\\programdata\\anaconda3\\lib\\site-packages)\n",
      "WARNING: Ignoring invalid distribution -ornado (c:\\programdata\\anaconda3\\lib\\site-packages)\n",
      "WARNING: Ignoring invalid distribution - (c:\\programdata\\anaconda3\\lib\\site-packages)\n",
      "WARNING: Ignoring invalid distribution -5py (c:\\programdata\\anaconda3\\lib\\site-packages)\n",
      "WARNING: Ignoring invalid distribution -pencv-python (c:\\programdata\\anaconda3\\lib\\site-packages)\n",
      "WARNING: Ignoring invalid distribution -ornado (c:\\programdata\\anaconda3\\lib\\site-packages)\n",
      "WARNING: Ignoring invalid distribution - (c:\\programdata\\anaconda3\\lib\\site-packages)\n",
      "    WARNING: Ignoring invalid distribution -5py (c:\\programdata\\anaconda3\\lib\\site-packages)\n",
      "    WARNING: Ignoring invalid distribution -pencv-python (c:\\programdata\\anaconda3\\lib\\site-packages)\n",
      "    WARNING: Ignoring invalid distribution -ornado (c:\\programdata\\anaconda3\\lib\\site-packages)\n",
      "    WARNING: Ignoring invalid distribution - (c:\\programdata\\anaconda3\\lib\\site-packages)\n",
      "    WARNING: Ignoring invalid distribution -5py (c:\\programdata\\anaconda3\\lib\\site-packages)\n",
      "    WARNING: Ignoring invalid distribution -pencv-python (c:\\programdata\\anaconda3\\lib\\site-packages)\n",
      "    WARNING: Ignoring invalid distribution -ornado (c:\\programdata\\anaconda3\\lib\\site-packages)\n",
      "    WARNING: Ignoring invalid distribution - (c:\\programdata\\anaconda3\\lib\\site-packages)\n",
      "    WARNING: Ignoring invalid distribution -5py (c:\\programdata\\anaconda3\\lib\\site-packages)\n",
      "    WARNING: Ignoring invalid distribution -pencv-python (c:\\programdata\\anaconda3\\lib\\site-packages)\n",
      "    WARNING: Ignoring invalid distribution -ornado (c:\\programdata\\anaconda3\\lib\\site-packages)\n",
      "    WARNING: Ignoring invalid distribution - (c:\\programdata\\anaconda3\\lib\\site-packages)\n",
      "WARNING: Ignoring invalid distribution -5py (c:\\programdata\\anaconda3\\lib\\site-packages)\n",
      "WARNING: Ignoring invalid distribution -pencv-python (c:\\programdata\\anaconda3\\lib\\site-packages)\n",
      "WARNING: Ignoring invalid distribution -ornado (c:\\programdata\\anaconda3\\lib\\site-packages)\n",
      "WARNING: Ignoring invalid distribution - (c:\\programdata\\anaconda3\\lib\\site-packages)\n",
      "WARNING: Ignoring invalid distribution -5py (c:\\programdata\\anaconda3\\lib\\site-packages)\n",
      "WARNING: Ignoring invalid distribution -pencv-python (c:\\programdata\\anaconda3\\lib\\site-packages)\n",
      "WARNING: Ignoring invalid distribution -ornado (c:\\programdata\\anaconda3\\lib\\site-packages)\n",
      "WARNING: Ignoring invalid distribution - (c:\\programdata\\anaconda3\\lib\\site-packages)\n",
      "WARNING: Ignoring invalid distribution -5py (c:\\programdata\\anaconda3\\lib\\site-packages)\n",
      "WARNING: Ignoring invalid distribution -pencv-python (c:\\programdata\\anaconda3\\lib\\site-packages)\n",
      "WARNING: Ignoring invalid distribution -ornado (c:\\programdata\\anaconda3\\lib\\site-packages)\n",
      "WARNING: Ignoring invalid distribution - (c:\\programdata\\anaconda3\\lib\\site-packages)\n",
      "WARNING: Ignoring invalid distribution -5py (c:\\programdata\\anaconda3\\lib\\site-packages)\n",
      "WARNING: Ignoring invalid distribution -pencv-python (c:\\programdata\\anaconda3\\lib\\site-packages)\n",
      "WARNING: Ignoring invalid distribution -ornado (c:\\programdata\\anaconda3\\lib\\site-packages)\n",
      "WARNING: Ignoring invalid distribution - (c:\\programdata\\anaconda3\\lib\\site-packages)\n",
      "WARNING: Ignoring invalid distribution -5py (c:\\programdata\\anaconda3\\lib\\site-packages)\n",
      "WARNING: Ignoring invalid distribution -pencv-python (c:\\programdata\\anaconda3\\lib\\site-packages)\n",
      "WARNING: Ignoring invalid distribution -ornado (c:\\programdata\\anaconda3\\lib\\site-packages)\n",
      "WARNING: Ignoring invalid distribution - (c:\\programdata\\anaconda3\\lib\\site-packages)\n",
      "WARNING: Ignoring invalid distribution -5py (c:\\programdata\\anaconda3\\lib\\site-packages)\n",
      "WARNING: Ignoring invalid distribution -pencv-python (c:\\programdata\\anaconda3\\lib\\site-packages)\n",
      "WARNING: Ignoring invalid distribution -ornado (c:\\programdata\\anaconda3\\lib\\site-packages)\n",
      "WARNING: Ignoring invalid distribution - (c:\\programdata\\anaconda3\\lib\\site-packages)\n",
      "WARNING: Ignoring invalid distribution -5py (c:\\programdata\\anaconda3\\lib\\site-packages)\n",
      "WARNING: Ignoring invalid distribution -pencv-python (c:\\programdata\\anaconda3\\lib\\site-packages)\n",
      "WARNING: Ignoring invalid distribution -ornado (c:\\programdata\\anaconda3\\lib\\site-packages)\n",
      "WARNING: Ignoring invalid distribution - (c:\\programdata\\anaconda3\\lib\\site-packages)\n",
      "ERROR: pip's dependency resolver does not currently take into account all the packages that are installed. This behaviour is the source of the following dependency conflicts.\n",
      "conda-repo-cli 1.0.4 requires pathlib, which is not installed.\n",
      "cachecontrol 0.12.10 requires msgpack>=0.5.2, which is not installed.\n",
      "WARNING: Ignoring invalid distribution -5py (c:\\programdata\\anaconda3\\lib\\site-packages)\n",
      "WARNING: Ignoring invalid distribution -pencv-python (c:\\programdata\\anaconda3\\lib\\site-packages)\n",
      "WARNING: Ignoring invalid distribution -ornado (c:\\programdata\\anaconda3\\lib\\site-packages)\n",
      "WARNING: Ignoring invalid distribution - (c:\\programdata\\anaconda3\\lib\\site-packages)\n",
      "WARNING: Ignoring invalid distribution -5py (c:\\programdata\\anaconda3\\lib\\site-packages)\n",
      "WARNING: Ignoring invalid distribution -pencv-python (c:\\programdata\\anaconda3\\lib\\site-packages)\n",
      "WARNING: Ignoring invalid distribution -ornado (c:\\programdata\\anaconda3\\lib\\site-packages)\n",
      "WARNING: Ignoring invalid distribution - (c:\\programdata\\anaconda3\\lib\\site-packages)\n"
     ]
    }
   ],
   "source": [
    "!pip install python-polar-coding"
   ]
  },
  {
   "cell_type": "code",
   "execution_count": 14,
   "id": "ce7fdab2",
   "metadata": {},
   "outputs": [
    {
     "name": "stdout",
     "output_type": "stream",
     "text": [
      "100010110101101001110\n"
     ]
    }
   ],
   "source": [
    "input_string = \"EVN\"\n",
    " \n",
    "# CONVERT string data to binary string data\n",
    "binDt = (''.join(format(ord(x), 'b') for x in input_string))\n",
    "print (binDt)"
   ]
  },
  {
   "cell_type": "code",
   "execution_count": 47,
   "id": "839df9ed",
   "metadata": {},
   "outputs": [
    {
     "data": {
      "text/plain": [
       "1000"
      ]
     },
     "execution_count": 47,
     "metadata": {},
     "output_type": "execute_result"
    }
   ],
   "source": [
    "binDt2 = int(binDt[0:4])\n",
    "binDt2"
   ]
  },
  {
   "cell_type": "code",
   "execution_count": 48,
   "id": "de2da42a",
   "metadata": {},
   "outputs": [],
   "source": [
    "from python_polar_coding.channels import SimpleBPSKModulationAWGN\n",
    "from python_polar_coding.polar_codes import FastSSCPolarCodec\n",
    "from python_polar_coding.simulation.functions import (\n",
    "    compute_fails,\n",
    "    generate_binary_message,\n",
    ")"
   ]
  },
  {
   "cell_type": "code",
   "execution_count": 56,
   "id": "cf958e2a",
   "metadata": {},
   "outputs": [],
   "source": [
    "N = 8\n",
    "K = 4\n",
    "design_snr = 2.0\n",
    "messages = binDt2\n",
    "# SNR in [.0, .5, ..., 4.5, 5]\n",
    "#snr_range = [i / 2 for i in range(11)]\n",
    "snr_range = [0,0,0,1,0,2,3,5]"
   ]
  },
  {
   "cell_type": "code",
   "execution_count": 57,
   "id": "8d29ad60",
   "metadata": {},
   "outputs": [],
   "source": [
    "codec = FastSSCPolarCodec(N=N, K=K, design_snr=design_snr)\n",
    "bpsk = SimpleBPSKModulationAWGN(fec_rate=K/N)\n",
    "\n",
    "result_ber = dict()\n",
    "result_fer = dict()"
   ]
  },
  {
   "cell_type": "code",
   "execution_count": 58,
   "id": "c9b3ca6a",
   "metadata": {},
   "outputs": [],
   "source": [
    "for snr in snr_range:\n",
    "    ber = 0\n",
    "    fer = 0\n",
    "\n",
    "    for _ in range(messages):\n",
    "        msg = generate_binary_message(size=K)\n",
    "        encoded = codec.encode(msg)\n",
    "        transmitted = bpsk.transmit(message=encoded, snr_db=snr)\n",
    "        decoded = codec.decode(transmitted)\n",
    "\n",
    "        bit_errors, frame_error = compute_fails(msg, decoded)\n",
    "        ber += bit_errors\n",
    "        fer += frame_error\n",
    "\n",
    "    result_ber[snr] = ber\n",
    "    result_fer[snr] = fer"
   ]
  },
  {
   "cell_type": "code",
   "execution_count": 59,
   "id": "c2ba226e",
   "metadata": {},
   "outputs": [
    {
     "name": "stdout",
     "output_type": "stream",
     "text": [
      "For Recived Crossward:\n",
      "00001111\n"
     ]
    }
   ],
   "source": [
    "print(\"For Recived Crossward:\\n00001111\")"
   ]
  },
  {
   "cell_type": "code",
   "execution_count": 60,
   "id": "db8dbef3",
   "metadata": {},
   "outputs": [
    {
     "data": {
      "text/plain": [
       "{0: 321, 1: 222, 2: 107, 3: 45, 5: 17}"
      ]
     },
     "execution_count": 60,
     "metadata": {},
     "output_type": "execute_result"
    }
   ],
   "source": [
    "result_ber"
   ]
  },
  {
   "cell_type": "code",
   "execution_count": 61,
   "id": "8ff9c552",
   "metadata": {},
   "outputs": [
    {
     "data": {
      "text/plain": [
       "{0: 155, 1: 111, 2: 53, 3: 24, 5: 7}"
      ]
     },
     "execution_count": 61,
     "metadata": {},
     "output_type": "execute_result"
    }
   ],
   "source": [
    "result_fer"
   ]
  },
  {
   "cell_type": "code",
   "execution_count": 5,
   "id": "93122f90",
   "metadata": {},
   "outputs": [
    {
     "name": "stdout",
     "output_type": "stream",
     "text": [
      "Requirement already satisfied: py-polar-codes in c:\\programdata\\anaconda3\\lib\\site-packages (1.2.2)\n",
      "Requirement already satisfied: matplotlib in c:\\programdata\\anaconda3\\lib\\site-packages (from py-polar-codes) (3.5.0)\n",
      "Requirement already satisfied: numpy in c:\\programdata\\anaconda3\\lib\\site-packages (from py-polar-codes) (1.19.1)\n",
      "Requirement already satisfied: pyparsing>=2.2.1 in c:\\programdata\\anaconda3\\lib\\site-packages (from matplotlib->py-polar-codes) (3.0.4)\n",
      "Requirement already satisfied: pillow>=6.2.0 in c:\\programdata\\anaconda3\\lib\\site-packages (from matplotlib->py-polar-codes) (8.4.0)\n",
      "Requirement already satisfied: setuptools-scm>=4 in c:\\programdata\\anaconda3\\lib\\site-packages (from matplotlib->py-polar-codes) (6.3.2)\n",
      "Requirement already satisfied: fonttools>=4.22.0 in c:\\programdata\\anaconda3\\lib\\site-packages (from matplotlib->py-polar-codes) (4.28.3)\n",
      "Requirement already satisfied: cycler>=0.10 in c:\\programdata\\anaconda3\\lib\\site-packages (from matplotlib->py-polar-codes) (0.11.0)\n",
      "Requirement already satisfied: python-dateutil>=2.7 in c:\\programdata\\anaconda3\\lib\\site-packages (from matplotlib->py-polar-codes) (2.8.2)\n",
      "Requirement already satisfied: packaging>=20.0 in c:\\programdata\\anaconda3\\lib\\site-packages (from matplotlib->py-polar-codes) (21.3)\n",
      "Requirement already satisfied: kiwisolver>=1.0.1 in c:\\programdata\\anaconda3\\lib\\site-packages (from matplotlib->py-polar-codes) (1.3.2)\n",
      "Requirement already satisfied: six>=1.5 in c:\\programdata\\anaconda3\\lib\\site-packages (from python-dateutil>=2.7->matplotlib->py-polar-codes) (1.15.0)\n",
      "Requirement already satisfied: setuptools in c:\\programdata\\anaconda3\\lib\\site-packages (from setuptools-scm>=4->matplotlib->py-polar-codes) (60.2.0)\n",
      "Requirement already satisfied: tomli>=1.0.0 in c:\\programdata\\anaconda3\\lib\\site-packages (from setuptools-scm>=4->matplotlib->py-polar-codes) (1.2.2)\n"
     ]
    },
    {
     "name": "stderr",
     "output_type": "stream",
     "text": [
      "WARNING: Ignoring invalid distribution -5py (c:\\programdata\\anaconda3\\lib\\site-packages)\n",
      "WARNING: Ignoring invalid distribution -pencv-python (c:\\programdata\\anaconda3\\lib\\site-packages)\n",
      "WARNING: Ignoring invalid distribution -ornado (c:\\programdata\\anaconda3\\lib\\site-packages)\n",
      "WARNING: Ignoring invalid distribution - (c:\\programdata\\anaconda3\\lib\\site-packages)\n",
      "WARNING: Ignoring invalid distribution -5py (c:\\programdata\\anaconda3\\lib\\site-packages)\n",
      "WARNING: Ignoring invalid distribution -pencv-python (c:\\programdata\\anaconda3\\lib\\site-packages)\n",
      "WARNING: Ignoring invalid distribution -ornado (c:\\programdata\\anaconda3\\lib\\site-packages)\n",
      "WARNING: Ignoring invalid distribution - (c:\\programdata\\anaconda3\\lib\\site-packages)\n",
      "WARNING: Ignoring invalid distribution -5py (c:\\programdata\\anaconda3\\lib\\site-packages)\n",
      "WARNING: Ignoring invalid distribution -pencv-python (c:\\programdata\\anaconda3\\lib\\site-packages)\n",
      "WARNING: Ignoring invalid distribution -ornado (c:\\programdata\\anaconda3\\lib\\site-packages)\n",
      "WARNING: Ignoring invalid distribution - (c:\\programdata\\anaconda3\\lib\\site-packages)\n",
      "WARNING: Ignoring invalid distribution -5py (c:\\programdata\\anaconda3\\lib\\site-packages)\n",
      "WARNING: Ignoring invalid distribution -pencv-python (c:\\programdata\\anaconda3\\lib\\site-packages)\n",
      "WARNING: Ignoring invalid distribution -ornado (c:\\programdata\\anaconda3\\lib\\site-packages)\n",
      "WARNING: Ignoring invalid distribution - (c:\\programdata\\anaconda3\\lib\\site-packages)\n",
      "WARNING: Ignoring invalid distribution -5py (c:\\programdata\\anaconda3\\lib\\site-packages)\n",
      "WARNING: Ignoring invalid distribution -pencv-python (c:\\programdata\\anaconda3\\lib\\site-packages)\n",
      "WARNING: Ignoring invalid distribution -ornado (c:\\programdata\\anaconda3\\lib\\site-packages)\n",
      "WARNING: Ignoring invalid distribution - (c:\\programdata\\anaconda3\\lib\\site-packages)\n"
     ]
    }
   ],
   "source": [
    "!pip install py-polar-codes"
   ]
  },
  {
   "cell_type": "code",
   "execution_count": 7,
   "id": "03811a12",
   "metadata": {},
   "outputs": [
    {
     "name": "stdout",
     "output_type": "stream",
     "text": [
      "========== Polar Code ==========\n",
      "N: 8\n",
      "M: 8\n",
      "K: 4\n",
      "Mothercode Construction: bb\n",
      "Ordered Bits (least reliable to most reliable): [0 4 2 1 6 5 3 7]\n",
      "Frozen Bits: [1 2 4 0]\n",
      "Puncturing Flag: False\n",
      "Puncturing Parameters: {punct_type: \n",
      "                        punct_algorithm: \n",
      "                        punct_set: []\n",
      "                        source_set: []\n",
      "                        update_frozen_flag: None}\n",
      " \n",
      "\n",
      "\n",
      "The message is: [0 0 0 1]\n",
      "The coded message is: [1 1 1 1 1 1 1 1]\n",
      "The log-likelihoods are: [-3.01445507 -5.59461903 -1.7107057  -3.17684171 -3.21348244 -6.50002042\n",
      " -0.10824932 -5.80992058]\n",
      "The decoded message is: [0 0 0 1]\n"
     ]
    }
   ],
   "source": [
    "import numpy as np\n",
    "from polarcodes import *\n",
    "\n",
    "# initialise polar code\n",
    "myPC = PolarCode(8, 4)\n",
    "myPC.construction_type = 'bb'\n",
    "    \n",
    "# mothercode construction\n",
    "design_SNR  = 5.0\n",
    "Construct(myPC, design_SNR)\n",
    "print(myPC, \"\\n\\n\")\n",
    "    \n",
    "# set message\n",
    "my_message = np.random.randint(2, size=myPC.K)\n",
    "myPC.set_message(my_message)\n",
    "print(\"The message is:\", my_message)\n",
    "    \n",
    "# encode message\n",
    "Encode(myPC)\n",
    "print(\"The coded message is:\", myPC.get_codeword())\n",
    "    \n",
    "# transmit the codeword\n",
    "AWGN(myPC, design_SNR)\n",
    "print(\"The log-likelihoods are:\", myPC.likelihoods)\n",
    "    \n",
    "# decode the received codeword\n",
    "Decode(myPC)\n",
    "print(\"The decoded message is:\", myPC.message_received)"
   ]
  },
  {
   "cell_type": "code",
   "execution_count": 64,
   "id": "48e1435b",
   "metadata": {},
   "outputs": [
    {
     "name": "stdout",
     "output_type": "stream",
     "text": [
      "EbNodB: 0\n",
      "Error bits: 393790\n",
      "Error probability: 0.078758\n",
      "EbNodB: 1\n",
      "Error bits: 281183\n",
      "Error probability: 0.0562366\n",
      "EbNodB: 2\n",
      "Error bits: 187827\n",
      "Error probability: 0.0375654\n",
      "EbNodB: 3\n",
      "Error bits: 114363\n",
      "Error probability: 0.0228726\n",
      "EbNodB: 4\n",
      "Error bits: 62349\n",
      "Error probability: 0.0124698\n",
      "EbNodB: 5\n",
      "Error bits: 29912\n",
      "Error probability: 0.0059824\n",
      "EbNodB: 6\n",
      "Error bits: 11981\n",
      "Error probability: 0.0023962\n",
      "EbNodB: 7\n",
      "Error bits: 3839\n",
      "Error probability: 0.0007678\n",
      "EbNodB: 8\n",
      "Error bits: 956\n",
      "Error probability: 0.0001912\n",
      "EbNodB: 9\n",
      "Error bits: 178\n",
      "Error probability: 3.56e-05\n",
      "EbNodB: 10\n",
      "Error bits: 17\n",
      "Error probability: 3.4e-06\n"
     ]
    },
    {
     "data": {
      "image/png": "[encoded data removed]",
      "text/plain": [
       "<Figure size 432x288 with 1 Axes>"
      ]
     },
     "metadata": {
      "needs_background": "light"
     },
     "output_type": "display_data"
    }
   ],
   "source": [
    "from numpy import sqrt\n",
    "from numpy.random import rand, randn\n",
    "import matplotlib.pyplot as plt\n",
    "  \n",
    "N = 5000000\n",
    "EbNodB_range = range(0,11)\n",
    "itr = len(EbNodB_range)\n",
    "ber = [None]*itr\n",
    "\n",
    "for n in range (0, itr): \n",
    " \n",
    "    EbNodB = EbNodB_range[n]   \n",
    "    EbNo=10.0**(EbNodB/10.0)\n",
    "    x = 2 * (rand(N) >= 0.5) - 1\n",
    "    noise_std = 1/sqrt(2*EbNo)\n",
    "    y = x + noise_std * randn(N)\n",
    "    y_d = 2 * (y >= 0) - 1\n",
    "    errors = (x != y_d).sum()\n",
    "    ber[n] = 1.0 * errors / N\n",
    "    \n",
    "    print(\"EbNodB:\", EbNodB)\n",
    "    print(\"Error bits:\", errors)\n",
    "    print(\"Error probability:\", ber[n]) \n",
    "        \n",
    "plt.plot(EbNodB_range, ber, 'bo', EbNodB_range, ber, 'k')\n",
    "plt.axis([0, 10, 1e-6, 0.1])\n",
    "plt.xscale('linear')\n",
    "plt.yscale('log')\n",
    "plt.xlabel('EbNo(dB)')\n",
    "plt.ylabel('BER')\n",
    "plt.grid(True)\n",
    "plt.title('BPSK Modulation')\n",
    "plt.show()"
   ]
  },
  {
   "cell_type": "code",
   "execution_count": 1,
   "id": "4f72f2ff",
   "metadata": {},
   "outputs": [
    {
     "data": {
      "text/plain": [
       "'Signal to noice ratio\\nReduce Bit Error Rate'"
      ]
     },
     "execution_count": 1,
     "metadata": {},
     "output_type": "execute_result"
    }
   ],
   "source": [
    "\"\"\"Signal to noice ratio\n",
    "Reduce Bit Error Rate\"\"\""
   ]
  },
  {
   "cell_type": "code",
   "execution_count": null,
   "id": "a54d6e98",
   "metadata": {},
   "outputs": [],
   "source": []
  }
 ],
 "metadata": {
  "kernelspec": {
   "display_name": "Python 3 (ipykernel)",
   "language": "python",
   "name": "python3"
  },
  "language_info": {
   "codemirror_mode": {
    "name": "ipython",
    "version": 3
   },
   "file_extension": ".py",
   "mimetype": "text/x-python",
   "name": "python",
   "nbconvert_exporter": "python",
   "pygments_lexer": "ipython3",
   "version": "3.8.8"
  }
 },
 "nbformat": 4,
 "nbformat_minor": 5
}
